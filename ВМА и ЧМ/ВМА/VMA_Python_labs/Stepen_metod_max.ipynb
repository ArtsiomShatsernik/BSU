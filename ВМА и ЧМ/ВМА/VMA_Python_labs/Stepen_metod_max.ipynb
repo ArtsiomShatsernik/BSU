{
 "cells": [
  {
   "cell_type": "code",
   "execution_count": 1,
   "metadata": {
    "collapsed": true
   },
   "outputs": [
    {
     "name": "stdout",
     "output_type": "stream",
     "text": [
      "Начальное приближение:\n",
      "[0, 0, 0, 0, 1]\n",
      "Число итераций: 9\n",
      "Максимальное собственное значение:\n",
      "1.1447499595770831\n",
      "Собственный вектор, соответствующий этому собственному значению:\n",
      "[ 1.29976058  0.18863179  0.94458672 -0.44767659  1.85494189]\n"
     ]
    }
   ],
   "source": [
    "import numpy as np\n",
    "import math\n",
    "\n",
    "size = 5\n",
    "a_matrix = []\n",
    "with open('input.txt') as file:\n",
    "    i = 0\n",
    "    for line in file:\n",
    "        a_matrix.append([float(x) for x in line.split(' ')])\n",
    "        i += 1\n",
    "a_matrix = np.array(a_matrix)\n",
    "epsilon = 1e-5\n",
    "# Симметричный вид\n",
    "a_matrix = np.matmul(a_matrix.T, a_matrix)\n",
    "# Начальное приближение\n",
    "y_old = [0 for i in range(size - 1)]\n",
    "y_old.append(1)\n",
    "print(\"Начальное приближение:\")\n",
    "print(y_old)\n",
    "y_new = np.matmul(a_matrix, y_old)\n",
    "lambda_new = np.dot(y_new, y_old) / np.dot(y_old, y_old)\n",
    "n = 0\n",
    "while True:\n",
    "    n += 1\n",
    "    y_old = y_new\n",
    "    lambda_old = lambda_new\n",
    "    y_new = np.matmul(a_matrix, y_new)\n",
    "    lambda_new = np.dot(y_new, y_old) / np.dot(y_old, y_old)\n",
    "    if abs(lambda_new - lambda_old) <= epsilon:\n",
    "        break\n",
    "print(\"Число итераций: \" + str(n))\n",
    "print('Максимальное собственное значение:')\n",
    "print(lambda_new)\n",
    "print('Собственный вектор, соответствующий этому собственному значению:')\n",
    "print(y_old)"
   ]
  },
  {
   "cell_type": "code",
   "execution_count": 2,
   "outputs": [
    {
     "name": "stdout",
     "output_type": "stream",
     "text": [
      "[-0.00034888 -0.00244649  0.00111387 -0.00198575 -0.00055321]\n",
      "Норма невязки: 3.4054e-03\n"
     ]
    }
   ],
   "source": [
    "# Невязка для собственного значения и собственного вектора\n",
    "res = np.matmul(a_matrix, y_old) - lambda_new * y_old\n",
    "print(res)\n",
    "print('Норма невязки: ', end='')\n",
    "print(format(np.linalg.norm(res, 2), '.4e'))"
   ],
   "metadata": {
    "collapsed": false
   }
  },
  {
   "cell_type": "code",
   "execution_count": 4,
   "outputs": [
    {
     "name": "stdout",
     "output_type": "stream",
     "text": [
      "[-0.00035698 -0.00244767  0.00110798 -0.00198296 -0.00056478]\n",
      "Норма невязки: 3.4055e-03\n"
     ]
    }
   ],
   "source": [
    "# Невязка для собственного значения и собственного вектора\n",
    "res = np.matmul(a_matrix, y_old) - 1.144756197021018 * y_old\n",
    "print(res)\n",
    "print('Норма невязки: ', end='')\n",
    "print(format(np.linalg.norm(res, 2), '.4e'))"
   ],
   "metadata": {
    "collapsed": false
   }
  },
  {
   "cell_type": "code",
   "execution_count": 3,
   "outputs": [
    {
     "name": "stdout",
     "output_type": "stream",
     "text": [
      "-6.5667e-07\n"
     ]
    }
   ],
   "source": [
    "# Невязка для собственного значения\n",
    "# Из метода Данилевского\n",
    "p = [3.1966884499999972, -3.7968475734971836, 2.0678062361750578, -0.5082483413019262, 0.044096040836178144]\n",
    "sum = pow(lambda_new, size)\n",
    "for j in reversed(range(size)):\n",
    "    sum -= pow(lambda_new, j) * p[size - j - 1]\n",
    "print(format(sum, '.4e'))"
   ],
   "metadata": {
    "collapsed": false
   }
  }
 ],
 "metadata": {
  "kernelspec": {
   "display_name": "Python 3",
   "language": "python",
   "name": "python3"
  },
  "language_info": {
   "codemirror_mode": {
    "name": "ipython",
    "version": 2
   },
   "file_extension": ".py",
   "mimetype": "text/x-python",
   "name": "python",
   "nbconvert_exporter": "python",
   "pygments_lexer": "ipython2",
   "version": "2.7.6"
  }
 },
 "nbformat": 4,
 "nbformat_minor": 0
}
