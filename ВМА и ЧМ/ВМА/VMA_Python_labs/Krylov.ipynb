{
 "cells": [
  {
   "cell_type": "code",
   "execution_count": 2,
   "metadata": {
    "collapsed": true
   },
   "outputs": [
    {
     "ename": "KeyboardInterrupt",
     "evalue": "",
     "output_type": "error",
     "traceback": [
      "\u001B[1;31m---------------------------------------------------------------------------\u001B[0m",
      "\u001B[1;31mKeyboardInterrupt\u001B[0m                         Traceback (most recent call last)",
      "Cell \u001B[1;32mIn[2], line 49\u001B[0m\n\u001B[0;32m     47\u001B[0m     b_matrix[size \u001B[38;5;241m-\u001B[39m i \u001B[38;5;241m-\u001B[39m \u001B[38;5;241m1\u001B[39m] \u001B[38;5;241m=\u001B[39m c_list[i]\n\u001B[0;32m     48\u001B[0m b_matrix \u001B[38;5;241m=\u001B[39m b_matrix\u001B[38;5;241m.\u001B[39mT\n\u001B[1;32m---> 49\u001B[0m q_list \u001B[38;5;241m=\u001B[39m gauss_reverse(gaussFunc(b_matrix))\n\u001B[0;32m     50\u001B[0m \u001B[38;5;28mprint\u001B[39m(\u001B[38;5;124m\"\u001B[39m\u001B[38;5;124mКоэффициенты собственного многочлена:\u001B[39m\u001B[38;5;124m\"\u001B[39m)\n\u001B[0;32m     51\u001B[0m \u001B[38;5;28mprint\u001B[39m(q_list)\n",
      "Cell \u001B[1;32mIn[2], line 49\u001B[0m\n\u001B[0;32m     47\u001B[0m     b_matrix[size \u001B[38;5;241m-\u001B[39m i \u001B[38;5;241m-\u001B[39m \u001B[38;5;241m1\u001B[39m] \u001B[38;5;241m=\u001B[39m c_list[i]\n\u001B[0;32m     48\u001B[0m b_matrix \u001B[38;5;241m=\u001B[39m b_matrix\u001B[38;5;241m.\u001B[39mT\n\u001B[1;32m---> 49\u001B[0m q_list \u001B[38;5;241m=\u001B[39m gauss_reverse(gaussFunc(b_matrix))\n\u001B[0;32m     50\u001B[0m \u001B[38;5;28mprint\u001B[39m(\u001B[38;5;124m\"\u001B[39m\u001B[38;5;124mКоэффициенты собственного многочлена:\u001B[39m\u001B[38;5;124m\"\u001B[39m)\n\u001B[0;32m     51\u001B[0m \u001B[38;5;28mprint\u001B[39m(q_list)\n",
      "File \u001B[1;32mD:\\Programms\\PyCharm 2022.3.1\\plugins\\python\\helpers\\pydev\\_pydevd_bundle\\pydevd_frame.py:747\u001B[0m, in \u001B[0;36mPyDBFrame.trace_dispatch\u001B[1;34m(self, frame, event, arg)\u001B[0m\n\u001B[0;32m    745\u001B[0m \u001B[38;5;66;03m# if thread has a suspend flag, we suspend with a busy wait\u001B[39;00m\n\u001B[0;32m    746\u001B[0m \u001B[38;5;28;01mif\u001B[39;00m info\u001B[38;5;241m.\u001B[39mpydev_state \u001B[38;5;241m==\u001B[39m STATE_SUSPEND:\n\u001B[1;32m--> 747\u001B[0m     \u001B[38;5;28;43mself\u001B[39;49m\u001B[38;5;241;43m.\u001B[39;49m\u001B[43mdo_wait_suspend\u001B[49m\u001B[43m(\u001B[49m\u001B[43mthread\u001B[49m\u001B[43m,\u001B[49m\u001B[43m \u001B[49m\u001B[43mframe\u001B[49m\u001B[43m,\u001B[49m\u001B[43m \u001B[49m\u001B[43mevent\u001B[49m\u001B[43m,\u001B[49m\u001B[43m \u001B[49m\u001B[43marg\u001B[49m\u001B[43m)\u001B[49m\n\u001B[0;32m    748\u001B[0m     \u001B[38;5;66;03m# No need to reset frame.f_trace to keep the same trace function.\u001B[39;00m\n\u001B[0;32m    749\u001B[0m     \u001B[38;5;28;01mreturn\u001B[39;00m \u001B[38;5;28mself\u001B[39m\u001B[38;5;241m.\u001B[39mtrace_dispatch\n",
      "File \u001B[1;32mD:\\Programms\\PyCharm 2022.3.1\\plugins\\python\\helpers\\pydev\\_pydevd_bundle\\pydevd_frame.py:144\u001B[0m, in \u001B[0;36mPyDBFrame.do_wait_suspend\u001B[1;34m(self, *args, **kwargs)\u001B[0m\n\u001B[0;32m    143\u001B[0m \u001B[38;5;28;01mdef\u001B[39;00m \u001B[38;5;21mdo_wait_suspend\u001B[39m(\u001B[38;5;28mself\u001B[39m, \u001B[38;5;241m*\u001B[39margs, \u001B[38;5;241m*\u001B[39m\u001B[38;5;241m*\u001B[39mkwargs):\n\u001B[1;32m--> 144\u001B[0m     \u001B[38;5;28;43mself\u001B[39;49m\u001B[38;5;241;43m.\u001B[39;49m\u001B[43m_args\u001B[49m\u001B[43m[\u001B[49m\u001B[38;5;241;43m0\u001B[39;49m\u001B[43m]\u001B[49m\u001B[38;5;241;43m.\u001B[39;49m\u001B[43mdo_wait_suspend\u001B[49m\u001B[43m(\u001B[49m\u001B[38;5;241;43m*\u001B[39;49m\u001B[43margs\u001B[49m\u001B[43m,\u001B[49m\u001B[43m \u001B[49m\u001B[38;5;241;43m*\u001B[39;49m\u001B[38;5;241;43m*\u001B[39;49m\u001B[43mkwargs\u001B[49m\u001B[43m)\u001B[49m\n",
      "File \u001B[1;32mD:\\Programms\\PyCharm 2022.3.1\\plugins\\python\\helpers\\pydev\\pydevd.py:1160\u001B[0m, in \u001B[0;36mPyDB.do_wait_suspend\u001B[1;34m(self, thread, frame, event, arg, send_suspend_message, is_unhandled_exception)\u001B[0m\n\u001B[0;32m   1157\u001B[0m         from_this_thread\u001B[38;5;241m.\u001B[39mappend(frame_id)\n\u001B[0;32m   1159\u001B[0m \u001B[38;5;28;01mwith\u001B[39;00m \u001B[38;5;28mself\u001B[39m\u001B[38;5;241m.\u001B[39m_threads_suspended_single_notification\u001B[38;5;241m.\u001B[39mnotify_thread_suspended(thread_id, stop_reason):\n\u001B[1;32m-> 1160\u001B[0m     \u001B[38;5;28;43mself\u001B[39;49m\u001B[38;5;241;43m.\u001B[39;49m\u001B[43m_do_wait_suspend\u001B[49m\u001B[43m(\u001B[49m\u001B[43mthread\u001B[49m\u001B[43m,\u001B[49m\u001B[43m \u001B[49m\u001B[43mframe\u001B[49m\u001B[43m,\u001B[49m\u001B[43m \u001B[49m\u001B[43mevent\u001B[49m\u001B[43m,\u001B[49m\u001B[43m \u001B[49m\u001B[43marg\u001B[49m\u001B[43m,\u001B[49m\u001B[43m \u001B[49m\u001B[43msuspend_type\u001B[49m\u001B[43m,\u001B[49m\u001B[43m \u001B[49m\u001B[43mfrom_this_thread\u001B[49m\u001B[43m)\u001B[49m\n",
      "File \u001B[1;32mD:\\Programms\\PyCharm 2022.3.1\\plugins\\python\\helpers\\pydev\\pydevd.py:1175\u001B[0m, in \u001B[0;36mPyDB._do_wait_suspend\u001B[1;34m(self, thread, frame, event, arg, suspend_type, from_this_thread)\u001B[0m\n\u001B[0;32m   1172\u001B[0m             \u001B[38;5;28mself\u001B[39m\u001B[38;5;241m.\u001B[39m_call_mpl_hook()\n\u001B[0;32m   1174\u001B[0m         \u001B[38;5;28mself\u001B[39m\u001B[38;5;241m.\u001B[39mprocess_internal_commands()\n\u001B[1;32m-> 1175\u001B[0m         \u001B[43mtime\u001B[49m\u001B[38;5;241;43m.\u001B[39;49m\u001B[43msleep\u001B[49m\u001B[43m(\u001B[49m\u001B[38;5;241;43m0.01\u001B[39;49m\u001B[43m)\u001B[49m\n\u001B[0;32m   1177\u001B[0m \u001B[38;5;28mself\u001B[39m\u001B[38;5;241m.\u001B[39mcancel_async_evaluation(get_current_thread_id(thread), \u001B[38;5;28mstr\u001B[39m(\u001B[38;5;28mid\u001B[39m(frame)))\n\u001B[0;32m   1179\u001B[0m \u001B[38;5;66;03m# process any stepping instructions\u001B[39;00m\n",
      "\u001B[1;31mKeyboardInterrupt\u001B[0m: "
     ]
    }
   ],
   "source": [
    "import numpy as np\n",
    "import math\n",
    "\n",
    "def gaussFunc(matrix):\n",
    "    copy_matrix = np.copy(matrix)\n",
    "    for nrow, row in enumerate(copy_matrix):\n",
    "        divider = row[nrow]\n",
    "        row /= divider\n",
    "        for lower_row in copy_matrix[nrow+1:]:\n",
    "            factor = lower_row[nrow]\n",
    "            lower_row -= factor*row\n",
    "    return copy_matrix\n",
    "\n",
    "def gauss_reverse(matrix):\n",
    "    n_row=matrix.shape[0] # число строк в матрице\n",
    "    x=[None]*n_row # инициализируем вектор решений None\n",
    "    for i in range(n_row-1, -1,-1): # обратный отсчет i=3,2,1,0..\n",
    "        x[i]=matrix[i,-1]-np.dot(matrix[i, i+1:n_row], x[i+1:]) #от последнего столбца вычитаются  значения уже известных x, умноженных на соответствующие элементы треугольной матрицы (см. свою схему)\n",
    "    return(np.array(x))\n",
    "\n",
    "size = 5\n",
    "a_matrix = []\n",
    "with open('input.txt') as file:\n",
    "    i = 0\n",
    "    for line in file:\n",
    "        a_matrix.append([float(x) for x in line.split(' ')])\n",
    "        i += 1\n",
    "a_matrix = np.array(a_matrix)\n",
    "\n",
    "# Симметричный вид\n",
    "a_matrix = np.matmul(a_matrix.T, a_matrix)\n",
    "# for i in range(size):\n",
    "#    for j in range(size):\n",
    "#        print(np.round(a_matrix[i][j], 5), end='')\n",
    "#        print(\" \", end='')\n",
    "#    print()\n",
    "# Начальный вектор\n",
    "c = [1.]\n",
    "[c.append(0) for i in range(size - 1)]\n",
    "c_list = [c]\n",
    "# Строим остальные c (всего n + 1)\n",
    "for i in range(size):\n",
    "    c_list.append(np.matmul(a_matrix, c_list[i]).tolist())\n",
    "b_matrix = np.zeros((size + 1, size))\n",
    "b_matrix[size] = c_list[size]\n",
    "for i in range(size):\n",
    "    b_matrix[size - i - 1] = c_list[i]\n",
    "b_matrix = b_matrix.T\n",
    "q_list = gauss_reverse(gaussFunc(b_matrix))\n",
    "print(\"Коэффициенты собственного многочлена:\")\n",
    "print(q_list)\n",
    "print()\n",
    "# Вычисление собственных векторов\n",
    "# Собственные значения, вычисленные методом вращений с точностью 10^(-16)\n",
    "lambda_list = [0.191009010539545, 0.879661472553097, 0.383558316492653, 0.597703453393687, 1.144756197021018]\n",
    "beta_matrix = [[1] for i in range(size)]\n",
    "for i in range(size):\n",
    "    for j in range(size - 1):\n",
    "        res = pow(lambda_list[i], j + 1)\n",
    "        res -= q_list[j]\n",
    "        for k in range(j):\n",
    "            res -= q_list[k] * pow(lambda_list[i], j - k)\n",
    "        beta_matrix[i].append(res)\n",
    "print('Матрица beta: ')\n",
    "print(np.array(beta_matrix))\n",
    "x_vectors = []\n",
    "for i in range(size):\n",
    "    vector = np.array([0 for n in range(size)])\n",
    "    for j in range(size):\n",
    "        vector = vector + beta_matrix[i][j] *  np.array(c_list[size - j - 1])\n",
    "    x_vectors.append(vector)\n",
    "print(\"\\nСобственные значения и соответствующие им собственные векторы\")\n",
    "for i in range(size):\n",
    "    print(np.round(lambda_list[i], 5) ,end=': ( ')\n",
    "    for j in range(size):\n",
    "        print(np.round(x_vectors[i][j], 5) ,end=' ')\n",
    "    print(')')"
   ]
  },
  {
   "cell_type": "code",
   "execution_count": 2,
   "outputs": [
    {
     "name": "stdout",
     "output_type": "stream",
     "text": [
      "(-1.8995e-16 2.5153e-17 -1.1905e-16 7.3943e-17 -2.7929e-16 )\n",
      "Норма невязки: 6.8738e-16\n",
      "(7.5406e-15 3.7324e-17 -2.1386e-17 -1.2685e-17 1.3366e-16 )\n",
      "Норма невязки: 7.7457e-15\n",
      "(-9.1507e-17 3.6402e-17 -6.5703e-17 3.7513e-17 -8.0680e-17 )\n",
      "Норма невязки: 3.1180e-16\n",
      "(-2.0177e-16 2.2551e-17 -1.0983e-16 3.0358e-17 -8.2074e-17 )\n",
      "Норма невязки: 4.4658e-16\n",
      "(-3.4001e-16 4.0766e-17 1.3878e-17 -2.4286e-17 1.7347e-16 )\n",
      "Норма невязки: 5.9241e-16\n"
     ]
    }
   ],
   "source": [
    "# Невязки\n",
    "for i in range(size):\n",
    "    res = np.matmul(a_matrix, x_vectors[i]) - lambda_list[i] * x_vectors[i]\n",
    "    print('(', end='')\n",
    "    for j in range(size):\n",
    "        print(format(res[j], '.4e'), end=' ')\n",
    "    print(')')\n",
    "    print('Норма невязки: ', end='')\n",
    "    print(format(np.linalg.norm(res, 1), '.4e'))"
   ],
   "metadata": {
    "collapsed": false
   }
  },
  {
   "cell_type": "code",
   "execution_count": 6,
   "outputs": [
    {
     "name": "stdout",
     "output_type": "stream",
     "text": [
      "-1.1102230246251565e-16\n",
      "-8.049116928532385e-15\n",
      "-8.326672684688674e-17\n",
      "5.551115123125783e-17\n",
      "-2.220446049250313e-16\n"
     ]
    }
   ],
   "source": [
    "p = q_list\n",
    "for i in range(size):\n",
    "    sum = pow(lambda_list[i], size)\n",
    "    for j in reversed(range(size)):\n",
    "        sum -= pow(lambda_list[i], j) * p[size - j - 1]\n",
    "    print(sum)"
   ],
   "metadata": {
    "collapsed": false
   }
  }
 ],
 "metadata": {
  "kernelspec": {
   "display_name": "Python 3",
   "language": "python",
   "name": "python3"
  },
  "language_info": {
   "codemirror_mode": {
    "name": "ipython",
    "version": 2
   },
   "file_extension": ".py",
   "mimetype": "text/x-python",
   "name": "python",
   "nbconvert_exporter": "python",
   "pygments_lexer": "ipython2",
   "version": "2.7.6"
  }
 },
 "nbformat": 4,
 "nbformat_minor": 0
}
