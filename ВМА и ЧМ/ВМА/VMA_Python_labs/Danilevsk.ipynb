{
 "cells": [
  {
   "cell_type": "code",
   "execution_count": 11,
   "metadata": {
    "collapsed": true
   },
   "outputs": [
    {
     "name": "stdout",
     "output_type": "stream",
     "text": [
      "0.49146 0.01004 0.09337 -0.05595 0.3955 \n",
      "0.01004 0.85471 -0.00115 0.07902 0.0408 \n",
      "0.09337 -0.00115 0.5433 -0.15107 0.20511 \n",
      "-0.05595 0.07902 -0.15107 0.55689 -0.03484 \n",
      "0.3955 0.0408 0.20511 -0.03484 0.75032 \n",
      "3.19668845\n",
      "[[ 3.19668845e+00 -3.79684757e+00  2.06780624e+00 -5.08248341e-01\n",
      "   4.40960408e-02]\n",
      " [ 1.00000000e+00  0.00000000e+00  0.00000000e+00  0.00000000e+00\n",
      "  -1.38777878e-17]\n",
      " [-0.00000000e+00  1.00000000e+00  2.22044605e-16  0.00000000e+00\n",
      "   0.00000000e+00]\n",
      " [-0.00000000e+00  0.00000000e+00  1.00000000e+00  0.00000000e+00\n",
      "   0.00000000e+00]\n",
      " [ 2.24771347e-14 -5.95846204e-14  5.40080209e-14  1.00000000e+00\n",
      "   2.10099523e-15]]\n",
      "[ 3.19668845 -3.79684757  2.06780624 -0.50824834  0.04409604]\n"
     ]
    }
   ],
   "source": [
    "import numpy as np\n",
    "import math\n",
    "\n",
    "size = 5\n",
    "a_matrix = []\n",
    "with open('input.txt') as file:\n",
    "    i = 0\n",
    "    for line in file:\n",
    "        a_matrix.append([float(x) for x in line.split(' ')])\n",
    "        i += 1\n",
    "a_matrix = np.array(a_matrix)\n",
    "\n",
    "# Симметричный вид\n",
    "a_matrix = np.matmul(a_matrix.T, a_matrix)\n",
    "for i in range(size):\n",
    "    for j in range(size):\n",
    "        print(np.round(a_matrix[i][j], 5), end='')\n",
    "        print(\" \", end='')\n",
    "    print()\n",
    "print(np.trace(a_matrix))\n",
    "# Метод Данилевского\n",
    "for i in reversed(range(size - 1)):\n",
    "    m_vec = []\n",
    "    for j in range(size):\n",
    "        if j != i:\n",
    "            m_vec.append(-1 * a_matrix[i + 1][j] / a_matrix[i + 1][i])\n",
    "        else:\n",
    "            m_vec.append(1 / a_matrix[i + 1][i])\n",
    "    m_inv_vec = np.identity(size)\n",
    "    m_inv_vec[i] = a_matrix[i + 1]\n",
    "# Умножаем на M справа\n",
    "    b_matrix = np.zeros((size, size))\n",
    "    for n in range(size):\n",
    "       for k in range(size):\n",
    "           if k != i:\n",
    "                b_matrix[n][k] = a_matrix[n][k] + a_matrix[n][i] * m_vec[k]\n",
    "           else:\n",
    "               b_matrix[n][k] = a_matrix[n][i] * m_vec[i]\n",
    "    a_matrix = np.copy(b_matrix)\n",
    "# Умножаем на M^-1 слева\n",
    "    for j in range(size):\n",
    "        sum = 0\n",
    "        for k in range(size):\n",
    "            sum += a_matrix[k][j] * m_inv_vec[i][k]\n",
    "        b_matrix[i][j] = sum\n",
    "    a_matrix = np.copy(b_matrix)\n",
    "print(a_matrix)\n",
    "print(a_matrix[0])"
   ]
  }
 ],
 "metadata": {
  "kernelspec": {
   "display_name": "Python 3",
   "language": "python",
   "name": "python3"
  },
  "language_info": {
   "codemirror_mode": {
    "name": "ipython",
    "version": 2
   },
   "file_extension": ".py",
   "mimetype": "text/x-python",
   "name": "python",
   "nbconvert_exporter": "python",
   "pygments_lexer": "ipython2",
   "version": "2.7.6"
  }
 },
 "nbformat": 4,
 "nbformat_minor": 0
}
