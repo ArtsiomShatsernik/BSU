{
 "cells": [
  {
   "cell_type": "code",
   "execution_count": 1,
   "metadata": {
    "collapsed": true
   },
   "outputs": [
    {
     "name": "stdout",
     "output_type": "stream",
     "text": [
      "0.49146 0.01004 0.09337 -0.05595 0.3955 \n",
      "0.01004 0.85471 -0.00115 0.07902 0.0408 \n",
      "0.09337 -0.00115 0.5433 -0.15107 0.20511 \n",
      "-0.05595 0.07902 -0.15107 0.55689 -0.03484 \n",
      "0.3955 0.0408 0.20511 -0.03484 0.75032 \n",
      "3.19668845\n",
      "Num of iterations: 18\n",
      "0.19101 -0.0 -0.0 -0.0 1e-05 \n",
      "-0.0 0.87966 0.0 -0.0 9e-05 \n",
      "-0.0 0.0 0.38356 1e-05 0.0 \n",
      "-0.0 -0.0 1e-05 0.5977 0.0 \n",
      "1e-05 9e-05 0.0 0.0 1.14476 \n",
      "\n",
      "0.7547 -0.005 -0.32155 0.23945 0.5193 \n",
      "0.0089 0.95277 -0.08878 -0.28147 0.07105 \n",
      "0.21313 -0.10878 0.74137 -0.49972 0.37868 \n",
      "0.14401 0.28115 0.58232 0.72684 -0.18116 \n",
      "-0.60348 0.03648 -0.00265 0.29226 0.74098 \n",
      "\n",
      "Собственные значения и соответствующие им векторы: \n",
      "0.19101: ( 0.7547 0.0089 0.21313 0.14401 -0.60348 )\n",
      "0.87966: ( -0.005 0.95277 -0.10878 0.28115 0.03648 )\n",
      "0.38356: ( -0.32155 -0.08878 0.74137 0.58232 -0.00265 )\n",
      "0.5977: ( 0.23945 -0.28147 -0.49972 0.72684 0.29226 )\n",
      "1.14476: ( 0.5193 0.07105 0.37868 -0.18116 0.74098 )\n"
     ]
    }
   ],
   "source": [
    "import numpy as np\n",
    "import math\n",
    "\n",
    "def build_sum(sum, matrix):\n",
    "    for i in range(matrix.shape[0]):\n",
    "        for j in range(matrix.shape[0]):\n",
    "            if i != j:\n",
    "                sum[i] += matrix[i][j]**2\n",
    "    return sum\n",
    "\n",
    "def find_optim_elem(sum, matrix):\n",
    "    max_sum = max(sum)\n",
    "    max_index = sum.index(max_sum)\n",
    "    row_list = matrix[max_index].tolist()\n",
    "    row_list.pop(max_index)\n",
    "    return [max_index, matrix[max_index].tolist().index(max(row_list, key=abs))]\n",
    "\n",
    "\n",
    "size = 5\n",
    "a_matrix = []\n",
    "with open('input.txt') as file:\n",
    "    i = 0\n",
    "    for line in file:\n",
    "        a_matrix.append([float(x) for x in line.split(' ')])\n",
    "        i += 1\n",
    "a_copy = np.copy(a_matrix)\n",
    "a_matrix = np.array(a_matrix)\n",
    "# Точность\n",
    "epsilon = 1e-7\n",
    "# Симметричный вид\n",
    "a_matrix = np.matmul(a_matrix.T, a_matrix)\n",
    "diag_sum = [0 for i in range(size)]\n",
    "diag_sum = build_sum(diag_sum, a_matrix)\n",
    "for i in range(size):\n",
    "    for j in range(size):\n",
    "        print(np.round(a_matrix[i][j], 5), end='')\n",
    "        print(\" \", end='')\n",
    "    print()\n",
    "# След матрицы\n",
    "print(np.trace(a_matrix))\n",
    "# Метод вращений\n",
    "n = 0\n",
    "u_matrix = np.identity(size)\n",
    "while True:\n",
    "    n += 1\n",
    "    optim_index = find_optim_elem(diag_sum, a_matrix)\n",
    "    k, l = optim_index[0], optim_index[1]\n",
    "    tg = 2 * a_matrix[k][l] / (a_matrix[k][k] - a_matrix[l][l])\n",
    "    cos = math.sqrt(0.5 * (1 + 1 / (math.sqrt(1 + tg**2))))\n",
    "    sin = math.sqrt(0.5 * (1 - 1 / (math.sqrt(1 + tg**2))))\n",
    "    if tg < 0:\n",
    "        sin = sin * -1\n",
    "    # A\n",
    "    b_matrix = np.copy(a_matrix)\n",
    "    for i in range(size):\n",
    "        b_matrix[i][k] = a_matrix[i][k] * cos + a_matrix[i][l] * sin\n",
    "        b_matrix[i][l] = -1 * a_matrix[i][k] * sin + a_matrix[i][l] * cos\n",
    "    a_matrix = np.copy(b_matrix)\n",
    "    # U\n",
    "    u_copy = np.copy(u_matrix)\n",
    "    for i in range(size):\n",
    "        u_copy[i][k] = u_matrix[i][k] * cos + u_matrix[i][l] * sin\n",
    "        u_copy[i][l] = -1 * u_matrix[i][k] * sin + u_matrix[i][l] * cos\n",
    "    u_matrix = np.copy(u_copy)\n",
    "    #  A\n",
    "    for i in range(size):\n",
    "        b_matrix[k][i] = a_matrix[k][i] * cos + a_matrix[l][i] * sin\n",
    "        b_matrix[l][i] = -1 * a_matrix[k][i] * sin + a_matrix[l][i] * cos\n",
    "    a_matrix = np.copy(b_matrix)\n",
    "    k_sum = 0\n",
    "    for i in range(size):\n",
    "        if i != k:\n",
    "            k_sum += a_matrix[k][i]**2\n",
    "    diag_sum[k] = k_sum\n",
    "    l_sum = 0\n",
    "    for i in range(size):\n",
    "        if i != l:\n",
    "            l_sum += a_matrix[l][i]**2\n",
    "    diag_sum[l] = l_sum\n",
    "    if abs(sum(diag_sum)) <= epsilon:\n",
    "        break\n",
    "print(\"Num of iterations: \" + str(n))\n",
    "for i in range(size):\n",
    "    for j in range(size):\n",
    "        print(np.round(a_matrix[i][j], 5), end='')\n",
    "        print(\" \", end='')\n",
    "    print()\n",
    "print()\n",
    "\n",
    "# Столбцы - собственные векторы соответствующие собственным значениям\n",
    "for i in range(size):\n",
    "    for j in range(size):\n",
    "        print(np.round(u_matrix[i][j], 5), end='')\n",
    "        print(\" \", end='')\n",
    "    print()\n",
    "\n",
    "print(\"\\nСобственные значения и соответствующие им векторы: \")\n",
    "for i in range(size):\n",
    "    print(np.round(a_matrix[i][i], 5) ,end=': ( ')\n",
    "    for j in range(size):\n",
    "        print(np.round(u_matrix[j][i], 5) ,end=' ')\n",
    "    print(')')"
   ]
  },
  {
   "cell_type": "code",
   "execution_count": 2,
   "outputs": [
    {
     "name": "stdout",
     "output_type": "stream",
     "text": [
      "(6.7661e-06 -1.3775e-06 5.2099e-06 -3.0654e-06 9.5497e-06 )\n",
      "Норма невязки: 1.3244e-05\n",
      "(4.4890e-05 6.3724e-06 3.3557e-05 -1.6653e-05 6.8130e-05 )\n",
      "Норма невязки: 9.0004e-05\n",
      "(2.9575e-06 -3.4307e-06 -6.0738e-06 8.8593e-06 3.6190e-06 )\n",
      "Норма невязки: 1.2206e-05\n",
      "(-3.7992e-06 -1.0690e-06 9.1524e-06 7.0490e-06 2.0159e-07 )\n",
      "Норма невязки: 1.2209e-05\n",
      "(9.4237e-06 8.5750e-05 -7.1057e-06 2.7420e-05 -4.4911e-06 )\n",
      "Норма невязки: 9.0909e-05\n"
     ]
    }
   ],
   "source": [
    "# Невязки\n",
    "temp = np.matmul(a_copy.T, a_copy)\n",
    "for i in range(size):\n",
    "    res = np.matmul(temp, u_matrix.T[i]) - a_matrix[i][i] * u_matrix.T[i]\n",
    "    print('(', end='')\n",
    "    for j in range(size):\n",
    "        print(format(res[j], '.4e'), end=' ')\n",
    "    print(')')\n",
    "    print('Норма невязки: ', end='')\n",
    "    print(format(np.linalg.norm(res, 2), '.4e'))"
   ],
   "metadata": {
    "collapsed": false
   }
  },
  {
   "cell_type": "code",
   "execution_count": 3,
   "outputs": [
    {
     "name": "stdout",
     "output_type": "stream",
     "text": [
      "9.582452886736093e-12\n",
      "-7.795513817798749e-10\n",
      "-1.0833292596323929e-11\n",
      "-9.343983919940513e-12\n",
      "-3.233649806255734e-09\n"
     ]
    }
   ],
   "source": [
    "# Из метода Данилевского\n",
    "p = [3.1966884499999972, -3.7968475734971836, 2.0678062361750578, -0.5082483413019262, 0.044096040836178144]\n",
    "for i in range(size):\n",
    "    sum = pow(a_matrix[i][i], size)\n",
    "    for j in reversed(range(size)):\n",
    "        sum -= pow(a_matrix[i][i], j) * p[size - j - 1]\n",
    "    print(sum)"
   ],
   "metadata": {
    "collapsed": false
   }
  }
 ],
 "metadata": {
  "kernelspec": {
   "display_name": "Python 3",
   "language": "python",
   "name": "python3"
  },
  "language_info": {
   "codemirror_mode": {
    "name": "ipython",
    "version": 2
   },
   "file_extension": ".py",
   "mimetype": "text/x-python",
   "name": "python",
   "nbconvert_exporter": "python",
   "pygments_lexer": "ipython2",
   "version": "2.7.6"
  }
 },
 "nbformat": 4,
 "nbformat_minor": 0
}
