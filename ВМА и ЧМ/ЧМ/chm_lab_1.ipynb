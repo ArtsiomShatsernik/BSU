{
 "cells": [
  {
   "cell_type": "code",
   "execution_count": 37,
   "metadata": {
    "collapsed": true
   },
   "outputs": [],
   "source": [
    "import numpy as np\n",
    "import math\n",
    "from decimal import Decimal"
   ]
  },
  {
   "cell_type": "code",
   "execution_count": 38,
   "outputs": [],
   "source": [
    "a, b = -3, -2\n",
    "e = 10**(-7)\n",
    "N = math.ceil(math.log((b - a) / e, 2))"
   ],
   "metadata": {
    "collapsed": false
   }
  },
  {
   "cell_type": "code",
   "execution_count": 39,
   "outputs": [
    {
     "name": "stdout",
     "output_type": "stream",
     "text": [
      "[-2.75, -3, -2.5]\n"
     ]
    }
   ],
   "source": [
    "# Функция и её производные\n",
    "def func(x):\n",
    "    return math.e**(-x) - (x - 1)**2\n",
    "\n",
    "def func_der(x):\n",
    "    return -math.e ** (-x) -2 * x + 2\n",
    "\n",
    "def func_second_der(x):\n",
    "    return math.e ** (-x) - 2\n",
    "\n",
    "def dichotomy_method(f, a, b, N):\n",
    "    for i in range(N):\n",
    "        c = 0.5 * (a + b)\n",
    "        res = f(c)\n",
    "        if res * f(a) <= 0:\n",
    "            b = c\n",
    "        if res * f(b) <= 0:\n",
    "            a = c\n",
    "    return [0.5 * (a + b), a, b]\n",
    "\n",
    "res = dichotomy_method(func, a, b, 1)\n",
    "print(res)\n",
    "a = res[1]\n",
    "b = res[2]"
   ],
   "metadata": {
    "collapsed": false
   }
  },
  {
   "cell_type": "code",
   "execution_count": 40,
   "outputs": [
    {
     "name": "stdout",
     "output_type": "stream",
     "text": [
      "1.5801e+00\n"
     ]
    }
   ],
   "source": [
    "residual = func(res[0])\n",
    "print(format(residual, '.4e'))"
   ],
   "metadata": {
    "collapsed": false
   }
  },
  {
   "cell_type": "code",
   "execution_count": 41,
   "outputs": [
    {
     "name": "stdout",
     "output_type": "stream",
     "text": [
      "[4.085536923187664, -1.6109439010693505, -1.281718171540955, 0.0, 0.36787944117144233, -0.8646647167633873, -3.950212931632136]\n"
     ]
    }
   ],
   "source": [
    "# Значение функции в точках\n",
    "dots= [-3, -2, -1, 0, 1, 2, 3]\n",
    "func_in_dots = []\n",
    "for dot in dots:\n",
    "    func_in_dots.append(func(dot))\n",
    "print(func_in_dots)"
   ],
   "metadata": {
    "collapsed": false
   }
  },
  {
   "cell_type": "code",
   "execution_count": 42,
   "outputs": [
    {
     "name": "stdout",
     "output_type": "stream",
     "text": [
      "x0 =  -2.75\n",
      "delta =  0.25\n"
     ]
    }
   ],
   "source": [
    "# Начальное приближение\n",
    "x0 = (a + b) / 2\n",
    "print(\"x0 = \" , x0)\n",
    "d = (b - a) / 2\n",
    "print(\"delta = \", d)"
   ],
   "metadata": {
    "collapsed": false
   }
  },
  {
   "cell_type": "code",
   "execution_count": 43,
   "outputs": [
    {
     "name": "stdout",
     "output_type": "stream",
     "text": [
      "func:  1.5801318841881695\n",
      "func_der:  -8.14263188418817\n",
      "h0:  0.19405665227929073\n",
      "S:  [-2.75, -2.3618866954414184]\n",
      "Левая граница:  -12.866432261412918\n",
      "Правая граница:  2.6873230986156402\n",
      "max второй производной:  13.64263188418817\n",
      "2*h0*M:  5.294886943448537\n",
      "5.294886943448537 <= 8.14263188418817\n"
     ]
    }
   ],
   "source": [
    "# Сходимость метода Ньютона\n",
    "print(\"func: \", func(x0))\n",
    "print(\"func_der: \", func_der(x0))\n",
    "h0 = - func(x0) / func_der(x0)\n",
    "print(\"h0: \", h0)\n",
    "s = [x0, x0 + 2 * h0]\n",
    "print(\"S: \", s)\n",
    "print(\"Левая граница: \", func(s[0]) * func_der(s[0]))\n",
    "print(\"Правая граница: \", func(s[1]) * func_der(s[1]))\n",
    "print(\"max второй производной: \", func_second_der(x0))\n",
    "lp = 2 * abs(h0) * func_second_der(x0)\n",
    "print(\"2*h0*M: \", lp)\n",
    "print(f\"{lp} <= {abs(func_der(x0))}\")"
   ],
   "metadata": {
    "collapsed": false
   }
  },
  {
   "cell_type": "code",
   "execution_count": 44,
   "outputs": [
    {
     "name": "stdout",
     "output_type": "stream",
     "text": [
      "-2.643511679964639\n"
     ]
    }
   ],
   "source": [
    "# Канонический вид\n",
    "def func_canon(x):\n",
    "    return - math.log( (x - 1)**2 )\n",
    "\n",
    "def func_canon_der(x):\n",
    "    return - 2 / (x - 1)\n",
    "\n",
    "# Значение канонической функции в начальной точке\n",
    "canon_x0 = func_canon(x0)\n",
    "print(canon_x0)"
   ],
   "metadata": {
    "collapsed": false
   }
  },
  {
   "cell_type": "code",
   "execution_count": 45,
   "outputs": [
    {
     "name": "stdout",
     "output_type": "stream",
     "text": [
      "0.10648832003536102\n"
     ]
    }
   ],
   "source": [
    "m = abs(x0 - canon_x0)\n",
    "print(m)"
   ],
   "metadata": {
    "collapsed": false
   }
  },
  {
   "cell_type": "code",
   "execution_count": 46,
   "outputs": [
    {
     "name": "stdout",
     "output_type": "stream",
     "text": [
      "0.5740467198585559\n"
     ]
    }
   ],
   "source": [
    "# Коэффициент сжатия\n",
    "q = 1 - m / d\n",
    "print(q)"
   ],
   "metadata": {
    "collapsed": false
   }
  },
  {
   "cell_type": "code",
   "execution_count": 47,
   "outputs": [
    {
     "name": "stdout",
     "output_type": "stream",
     "text": [
      "Значение x: -2.512862513200962 \n",
      "Число итераций: 26\n"
     ]
    }
   ],
   "source": [
    "# Метод простой итерации\n",
    "def simple_iteration_method(x0, f, e):\n",
    "    n = 0\n",
    "    x_new = x0\n",
    "    while True:\n",
    "        n += 1\n",
    "        x_old = x_new\n",
    "        x_new = f(x_new)\n",
    "        if abs(x_old - x_new) <= e:\n",
    "            break\n",
    "    return [x_new, n]\n",
    "\n",
    "result, i = simple_iteration_method(x0, func_canon, e)\n",
    "print(f\"Значение x: {result} \\nЧисло итераций: {i}\")"
   ],
   "metadata": {
    "collapsed": false
   }
  },
  {
   "cell_type": "code",
   "execution_count": 48,
   "outputs": [
    {
     "name": "stdout",
     "output_type": "stream",
     "text": [
      "5.0992e-07\n"
     ]
    }
   ],
   "source": [
    "# Невязка\n",
    "residual = func(result)\n",
    "print(format(residual, '.4e'))"
   ],
   "metadata": {
    "collapsed": false
   }
  },
  {
   "cell_type": "code",
   "execution_count": 49,
   "outputs": [
    {
     "name": "stdout",
     "output_type": "stream",
     "text": [
      "Значение x: -2.512862417252339664277246568 \n",
      "Число итераций: 5\n"
     ]
    }
   ],
   "source": [
    "# Метод Ньютона\n",
    "def func(x):\n",
    "    return Decimal(math.e)**(-x) - (x - 1)**2\n",
    "\n",
    "def func_der(x):\n",
    "    return -Decimal(math.e)**(-x) -2 * x + 2\n",
    "\n",
    "def newton_method(x0, f, f_der, e):\n",
    "    n = 0\n",
    "    x_new = Decimal(x0)\n",
    "    while True:\n",
    "        n += 1\n",
    "        x_old = Decimal(x_new)\n",
    "        x_new = Decimal(x_new)  - Decimal(f(x_new)) / Decimal(f_der(x_new))\n",
    "        if abs(x_old - x_new) <= e:\n",
    "            break\n",
    "    return [x_new, n]\n",
    "\n",
    "result, i = newton_method(x0, func, func_der, e)\n",
    "print(f\"Значение x: {result} \\nЧисло итераций: {i}\")"
   ],
   "metadata": {
    "collapsed": false
   }
  },
  {
   "cell_type": "code",
   "execution_count": 50,
   "outputs": [
    {
     "name": "stdout",
     "output_type": "stream",
     "text": [
      "3.3380e-22\n"
     ]
    }
   ],
   "source": [
    "# Невязка\n",
    "def func(x):\n",
    "    return Decimal(math.e)**(-x) - (x - 1)**2\n",
    "residual = func(result)\n",
    "print(format(residual, '.4e'))"
   ],
   "metadata": {
    "collapsed": false
   }
  },
  {
   "cell_type": "code",
   "execution_count": 51,
   "outputs": [
    {
     "name": "stdout",
     "output_type": "stream",
     "text": [
      "Значение x: -2.512862417252339664277183757 \n",
      "Число итераций: 4\n"
     ]
    }
   ],
   "source": [
    "# Метод Чебышева\n",
    "def func(x):\n",
    "    return Decimal(math.e)**(-x) - (x - 1)**2\n",
    "\n",
    "def func_der(x):\n",
    "    return -Decimal(math.e)**(-x) -2 * x + 2\n",
    "\n",
    "def func_second_der(x):\n",
    "    return Decimal(math.e) ** (-x) - 2\n",
    "\n",
    "def chebyshev_method(x0, f, f_der, f_second_der, e):\n",
    "    n = 0\n",
    "    x_new = Decimal(x0)\n",
    "    while True:\n",
    "        n += 1\n",
    "        x_old = Decimal(x_new)\n",
    "        f_res = Decimal(f(x_new))\n",
    "        f_der_res = Decimal(f_der(x_new))\n",
    "        x_new = x_new - f_res / f_der_res - f_res ** 2 * f_second_der(x_new) / (2 * f_der_res ** 3)\n",
    "        if abs(x_old - x_new) <= e:\n",
    "            break\n",
    "    return [x_new, n]\n",
    "\n",
    "result, i = chebyshev_method(x0, func, func_der, func_second_der, e)\n",
    "print(f\"Значение x: {result} \\nЧисло итераций: {i}\")"
   ],
   "metadata": {
    "collapsed": false
   }
  },
  {
   "cell_type": "code",
   "execution_count": 52,
   "outputs": [
    {
     "name": "stdout",
     "output_type": "stream",
     "text": [
      "-1.0000e-26\n"
     ]
    }
   ],
   "source": [
    "# Невязка\n",
    "residual = func(result)\n",
    "print(format(residual, '.4e'))"
   ],
   "metadata": {
    "collapsed": false
   }
  },
  {
   "cell_type": "code",
   "execution_count": 53,
   "outputs": [
    {
     "name": "stdout",
     "output_type": "stream",
     "text": [
      "-2.51286241725233966428e+0 -2.51286241725233949751e+00\n"
     ]
    }
   ],
   "source": [
    "print(format(result, '.20e'), format(func_canon(result), '.20e'))"
   ],
   "metadata": {
    "collapsed": false
   }
  },
  {
   "cell_type": "code",
   "execution_count": 57,
   "outputs": [
    {
     "name": "stdout",
     "output_type": "stream",
     "text": [
      "1.4214881612301107\n",
      "1.4215299356072422\n",
      "1.4215306721250078\n",
      "1.4215299361367786\n",
      "1.4215283949326503\n",
      "1.4215299362721332\n",
      "1.4215291093215163\n",
      "1.421529935703827\n",
      "1.421530951551815\n",
      "1.4215299357343123\n",
      "1.4215292759090588\n",
      "1.4215299360186628\n",
      "1.4215252668952107\n",
      "1.4215299359009765\n",
      "1.4215622583139984\n",
      "1.4215299357102575\n",
      "1.4215302394415268\n",
      "1.4215299372042949\n",
      "1.4215300253474983\n",
      "[1.4215300253474983, 19]\n"
     ]
    }
   ],
   "source": [
    "# Стеффенсен по приколу\n",
    "def func(x):\n",
    "    return (1 / 3) * (-2 * math.log(x) + 1 / x) + x\n",
    "\n",
    "x0 = 1.4375\n",
    "def stef_method(x0, e):\n",
    "    n = 0\n",
    "    x_new = x0\n",
    "    while True:\n",
    "        n += 1\n",
    "        x_old = x_new\n",
    "        x_new = (x_new * func(func(x_new)) - func(x_new)**2) / (func(func(x_new)) - 2 * func(x_new) + x_new)\n",
    "        print(x_new)\n",
    "        if abs(x_old - x_new) <= e:\n",
    "            break\n",
    "    return [x_new, n]\n",
    "\n",
    "res = stef_method(x0, e)\n",
    "print(res)"
   ],
   "metadata": {
    "collapsed": false
   }
  },
  {
   "cell_type": "code",
   "execution_count": null,
   "outputs": [],
   "source": [],
   "metadata": {
    "collapsed": false
   }
  }
 ],
 "metadata": {
  "kernelspec": {
   "display_name": "Python 3",
   "language": "python",
   "name": "python3"
  },
  "language_info": {
   "codemirror_mode": {
    "name": "ipython",
    "version": 2
   },
   "file_extension": ".py",
   "mimetype": "text/x-python",
   "name": "python",
   "nbconvert_exporter": "python",
   "pygments_lexer": "ipython2",
   "version": "2.7.6"
  }
 },
 "nbformat": 4,
 "nbformat_minor": 0
}
