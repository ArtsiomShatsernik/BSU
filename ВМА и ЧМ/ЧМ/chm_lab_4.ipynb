{
 "cells": [
  {
   "cell_type": "code",
   "execution_count": 44,
   "metadata": {
    "collapsed": true
   },
   "outputs": [],
   "source": [
    "import math\n",
    "import numpy as np"
   ]
  },
  {
   "cell_type": "code",
   "execution_count": 45,
   "outputs": [
    {
     "name": "stdout",
     "output_type": "stream",
     "text": [
      "Разбиение:\n",
      "[1.0, 1.1, 1.2, 1.3, 1.4, 1.5, 1.6, 1.7000000000000002, 1.8, 1.9, 2.0]\n"
     ]
    }
   ],
   "source": [
    "def func(x, y):\n",
    "    return (y**2 * math.log(x) - y) / x\n",
    "\n",
    "def func_der(x, y):\n",
    "    return (2 * y * math.log(x) - 1) / x\n",
    "\n",
    "x0, y0 = 1, 1\n",
    "a, b = 1, 2\n",
    "N = 10\n",
    "h = (b - a) / N\n",
    "split = [a + h * i for i in range(N + 1)]\n",
    "print(f\"Разбиение:\\n{split}\")"
   ],
   "metadata": {
    "collapsed": false
   }
  },
  {
   "cell_type": "code",
   "execution_count": 46,
   "outputs": [
    {
     "name": "stdout",
     "output_type": "stream",
     "text": [
      "x = 1.0, y = 1.0\n",
      "x = 1.1, y = 0.9129833890329112\n",
      "x = 1.2, y = 0.8457935950281179\n",
      "x = 1.3, y = 0.7921643761215267\n",
      "x = 1.4, y = 0.7482385137517997\n",
      "x = 1.5, y = 0.7115082361212486\n",
      "x = 1.6, y = 0.6802704293411191\n",
      "x = 1.7, y = 0.6533265012625084\n",
      "x = 1.8, y = 0.6298075315185029\n",
      "x = 1.9, y = 0.6090675963445629\n",
      "x = 2.0, y = 0.5906161091496412\n"
     ]
    }
   ],
   "source": [
    "# Реальное решение\n",
    "def func_res(x):\n",
    "    return 1 / (math.log(x) + 1)\n",
    "\n",
    "real_res = []\n",
    "for i in split:\n",
    "    real_res.append(func_res(i))\n",
    "    print(f\"x = {round(i, 2)}, y = {func_res(i)}\")"
   ],
   "metadata": {
    "collapsed": false
   }
  },
  {
   "cell_type": "code",
   "execution_count": 47,
   "outputs": [
    {
     "name": "stdout",
     "output_type": "stream",
     "text": [
      "1.000000, 0.912983, 0.845794, 0.792164, 0.748239, 0.711508, 0.680270, 0.653327, 0.629808, 0.609068, 0.590616, "
     ]
    }
   ],
   "source": [
    "for i in real_res:\n",
    "    print(f\"{i:6f}\", end=', ')"
   ],
   "metadata": {
    "collapsed": false
   }
  },
  {
   "cell_type": "code",
   "execution_count": 48,
   "outputs": [
    {
     "name": "stdout",
     "output_type": "stream",
     "text": [
      "x = 1.0, y = 1.000000\n",
      "x = 1.1, y = 0.923440\n",
      "x = 1.2, y = 0.862847\n",
      "x = 1.3, y = 0.813621\n",
      "x = 1.4, y = 0.772775\n",
      "x = 1.5, y = 0.738290\n",
      "x = 1.6, y = 0.708749\n",
      "x = 1.7, y = 0.683131\n",
      "x = 1.8, y = 0.660680\n",
      "x = 1.9, y = 0.640825\n",
      "x = 2.0, y = 0.623126\n"
     ]
    }
   ],
   "source": [
    "# Неявный метод Эйлера\n",
    "# Метод Ньютона для разрешения\n",
    "def newton_method(x0, y0, f, f_der, h):\n",
    "    y_new = y0\n",
    "    while True:\n",
    "        F = y_new - y0 - h * f(x0 + h, y_new)\n",
    "        F_der = 1 - h * f_der(x0 + h, y_new)\n",
    "        y_next = y_new - F / F_der\n",
    "        if abs(y_new - y_next) <= h**3:\n",
    "            return y_next\n",
    "        y_new = y_next\n",
    "\n",
    "def euler_method(split, f, df, y0):\n",
    "    h = (split[1] - split[0])\n",
    "    y_new = y0\n",
    "    y_res = [y0]\n",
    "    for i in range(len(split) - 1):\n",
    "        y_new = newton_method(split[i], y_new, f, df, h)\n",
    "        y_res.append(y_new)\n",
    "    return y_res\n",
    "\n",
    "res_euler = euler_method(split, func, func_der, y0)\n",
    "for t, y in zip(split, res_euler):\n",
    "    print(f\"x = {t:.1f}, y = {y:.6f}\")"
   ],
   "metadata": {
    "collapsed": false
   }
  },
  {
   "cell_type": "code",
   "execution_count": 49,
   "outputs": [
    {
     "name": "stdout",
     "output_type": "stream",
     "text": [
      "1.000000, 0.923440, 0.862847, 0.813621, 0.772775, 0.738290, 0.708749, 0.683131, 0.660680, 0.640825, 0.623126, "
     ]
    }
   ],
   "source": [
    "for i in res_euler:\n",
    "    print(f\"{i:6f}\", end=', ')"
   ],
   "metadata": {
    "collapsed": false
   }
  },
  {
   "cell_type": "code",
   "execution_count": 50,
   "outputs": [
    {
     "name": "stdout",
     "output_type": "stream",
     "text": [
      "0.000000e+00\n",
      "1.045618e-02\n",
      "1.705365e-02\n",
      "2.145662e-02\n",
      "2.453675e-02\n",
      "2.678155e-02\n",
      "2.847846e-02\n",
      "2.980452e-02\n",
      "3.087280e-02\n",
      "3.175782e-02\n",
      "3.250997e-02\n"
     ]
    }
   ],
   "source": [
    "for i in range(len(res_euler)):\n",
    "    print(f\"{abs(real_res[i] - res_euler[i]):.6e}\")"
   ],
   "metadata": {
    "collapsed": false
   }
  },
  {
   "cell_type": "code",
   "execution_count": 51,
   "outputs": [
    {
     "name": "stdout",
     "output_type": "stream",
     "text": [
      "x = 1.0, y = 1.000000\n",
      "x = 1.1, y = 0.912600\n",
      "x = 1.2, y = 0.845178\n",
      "x = 1.3, y = 0.791401\n",
      "x = 1.4, y = 0.747378\n",
      "x = 1.5, y = 0.710581\n",
      "x = 1.6, y = 0.679296\n",
      "x = 1.7, y = 0.652319\n",
      "x = 1.8, y = 0.628774\n",
      "x = 1.9, y = 0.608015\n",
      "x = 2.0, y = 0.589547\n"
     ]
    }
   ],
   "source": [
    "# Метод Рунге-Кутта\n",
    "def runge_kutt(split, f, y0):\n",
    "    h = (split[1] - split[0])\n",
    "    y_new = y0\n",
    "    y_res = [y0]\n",
    "    for i in range(len(split) - 1):\n",
    "        p1 = h * f(split[i], y_new)\n",
    "        p2 = h * f(split[i] + h, y_new + p1)\n",
    "        y_new = y_new + 0.5 * (p1 + p2)\n",
    "        y_res.append(y_new)\n",
    "    return y_res\n",
    "\n",
    "res_runge_kutt = runge_kutt(split, func, y0)\n",
    "for t, y in zip(split, res_runge_kutt):\n",
    "    print(f\"x = {t:.1f}, y = {y:.6f}\")"
   ],
   "metadata": {
    "collapsed": false
   }
  },
  {
   "cell_type": "code",
   "execution_count": 52,
   "outputs": [
    {
     "name": "stdout",
     "output_type": "stream",
     "text": [
      "1.000000, 0.912600, 0.845178, 0.791401, 0.747378, 0.710581, 0.679296, 0.652319, 0.628774, 0.608015, 0.589547, "
     ]
    }
   ],
   "source": [
    "for i in res_runge_kutt:\n",
    "    print(f\"{i:6f}\", end=', ')"
   ],
   "metadata": {
    "collapsed": false
   }
  },
  {
   "cell_type": "code",
   "execution_count": 53,
   "outputs": [
    {
     "name": "stdout",
     "output_type": "stream",
     "text": [
      "0.000000e+00\n",
      "3.833324e-04\n",
      "6.159653e-04\n",
      "7.635166e-04\n",
      "8.607882e-04\n",
      "9.271712e-04\n",
      "9.739510e-04\n",
      "1.007947e-03\n",
      "1.033416e-03\n",
      "1.053089e-03\n",
      "1.068760e-03\n"
     ]
    }
   ],
   "source": [
    "for i in range(len(res_runge_kutt)):\n",
    "    print(f\"{abs(real_res[i] - res_runge_kutt[i]):.6e}\")"
   ],
   "metadata": {
    "collapsed": false
   }
  },
  {
   "cell_type": "code",
   "execution_count": 54,
   "outputs": [
    {
     "name": "stdout",
     "output_type": "stream",
     "text": [
      "x = 1.0, y = 1.000000\n",
      "x = 1.1, y = 0.912940\n",
      "x = 1.2, y = 0.845732\n",
      "x = 1.3, y = 0.790843\n",
      "x = 1.4, y = 0.746346\n",
      "x = 1.5, y = 0.709272\n",
      "x = 1.6, y = 0.677848\n",
      "x = 1.7, y = 0.650798\n",
      "x = 1.8, y = 0.627217\n",
      "x = 1.9, y = 0.606440\n",
      "x = 2.0, y = 0.587966\n"
     ]
    }
   ],
   "source": [
    "# Экстраполяционный метод Адамса 3-го порядка\n",
    "# Строим начало таблицы с помощью метода ПППТ-3\n",
    "def inc_order(x, y, f, h):\n",
    "    y13 = y + 1 / 3 * h * f(x , y)\n",
    "    y23 = y + 2 / 3 * h * f(x + h / 3, y13)\n",
    "    y_res = y + h / 4 * (f(x, y) + 3 * f(x + h * 2 / 3, y23))\n",
    "    return y_res\n",
    "\n",
    "def adams_method(split, f, y0):\n",
    "    h = split[1] - split[0]\n",
    "    y_res = [y0]\n",
    "    y_res.append(inc_order(split[0], y_res[0], f, h))\n",
    "    y_res.append(inc_order(split[1], y_res[1], f, h))\n",
    "    for i in range(2, len(split) - 1):\n",
    "        y = y_res[i] + h / 12 * (23 * f(split[i], y_res[i]) -\n",
    "                                          16 * f(split[i - 1], y_res[i - 1]) + 5 * f(split[i - 2], y_res[i - 2]))\n",
    "        y_res.append(y)\n",
    "    return y_res\n",
    "\n",
    "res_adams = adams_method(split, func, y0)\n",
    "for t, y in zip(split, res_adams):\n",
    "    print(f\"x = {t:.1f}, y = {y:.6f}\")"
   ],
   "metadata": {
    "collapsed": false
   }
  },
  {
   "cell_type": "code",
   "execution_count": 55,
   "outputs": [
    {
     "name": "stdout",
     "output_type": "stream",
     "text": [
      "1.000000, 0.912940, 0.845732, 0.790843, 0.746346, 0.709272, 0.677848, 0.650798, 0.627217, 0.606440, 0.587966, "
     ]
    }
   ],
   "source": [
    "for i in res_adams:\n",
    "    print(f\"{i:6f}\", end=', ')"
   ],
   "metadata": {
    "collapsed": false
   }
  },
  {
   "cell_type": "code",
   "execution_count": 56,
   "outputs": [
    {
     "name": "stdout",
     "output_type": "stream",
     "text": [
      "0.000000e+00\n",
      "4.346047e-05\n",
      "6.124054e-05\n",
      "1.321260e-03\n",
      "1.892705e-03\n",
      "2.236644e-03\n",
      "2.422140e-03\n",
      "2.528343e-03\n",
      "2.590199e-03\n",
      "2.627134e-03\n",
      "2.649764e-03\n"
     ]
    }
   ],
   "source": [
    "# Невязки\n",
    "for i in range(len(res_adams)):\n",
    "    print(f\"{abs(real_res[i] - res_adams[i]):.6e}\")"
   ],
   "metadata": {
    "collapsed": false
   }
  },
  {
   "cell_type": "code",
   "execution_count": 56,
   "outputs": [],
   "source": [],
   "metadata": {
    "collapsed": false
   }
  }
 ],
 "metadata": {
  "kernelspec": {
   "display_name": "Python 3",
   "language": "python",
   "name": "python3"
  },
  "language_info": {
   "codemirror_mode": {
    "name": "ipython",
    "version": 2
   },
   "file_extension": ".py",
   "mimetype": "text/x-python",
   "name": "python",
   "nbconvert_exporter": "python",
   "pygments_lexer": "ipython2",
   "version": "2.7.6"
  }
 },
 "nbformat": 4,
 "nbformat_minor": 0
}
