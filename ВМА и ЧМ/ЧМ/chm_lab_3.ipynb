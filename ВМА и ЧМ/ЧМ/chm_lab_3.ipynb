{
 "cells": [
  {
   "cell_type": "code",
   "execution_count": 1,
   "metadata": {
    "collapsed": true
   },
   "outputs": [],
   "source": [
    "import math\n",
    "import numpy as np\n",
    "import matplotlib.pyplot as plt"
   ]
  },
  {
   "cell_type": "code",
   "execution_count": 2,
   "outputs": [
    {
     "name": "stdout",
     "output_type": "stream",
     "text": [
      "Разбиение:\n",
      "[0.0, 0.1, 0.2, 0.30000000000000004, 0.4, 0.5, 0.6000000000000001, 0.7000000000000001, 0.8, 0.9, 1.0]\n"
     ]
    }
   ],
   "source": [
    "# Условие\n",
    "a, b = 0, 1\n",
    "real_res = -0.1978168271761323678264082\n",
    "def func(x):\n",
    "    return (x**2 - 1) * 10**(-2 * x)\n",
    "\n",
    "# Разбиение отрезка [a, b]\n",
    "N = 10\n",
    "h = (b - a) / N\n",
    "split = [h * i for i in range(N + 1)]\n",
    "print(f\"Разбиение:\\n{split}\")"
   ],
   "metadata": {
    "collapsed": false
   }
  },
  {
   "cell_type": "code",
   "execution_count": 3,
   "outputs": [
    {
     "name": "stdout",
     "output_type": "stream",
     "text": [
      "0.0\n"
     ]
    }
   ],
   "source": [
    "# Простейшие правые прямоугольники\n",
    "def r_triangle(f, a, b):\n",
    "    return (b - a) * f(b)\n",
    "\n",
    "# Результат по простейшей формуле\n",
    "res = r_triangle(func, a, b)\n",
    "print(res)"
   ],
   "metadata": {
    "collapsed": false
   }
  },
  {
   "cell_type": "code",
   "execution_count": 4,
   "outputs": [
    {
     "name": "stdout",
     "output_type": "stream",
     "text": [
      "Значение интеграла: -0.19781377543255163\n",
      "Шаг разбиения: 6.103515625e-06\n",
      "Невязка с реальным решением: -3.051743580728683e-06\n"
     ]
    }
   ],
   "source": [
    "# Составные правые прямоугольники по правилу Рунге\n",
    "def r_triangle_comp(f, a, b, epsilon):\n",
    "    h1 = 0.1\n",
    "    Ih1 = 0\n",
    "    N = int((b - a) / h1)\n",
    "    for i in range(N):\n",
    "        Ih1 += f(a + (i + 1) * h1)\n",
    "    Ih1 *= h1\n",
    "    while True:\n",
    "        h2 = 0.5 * h1\n",
    "        N = int((b - a) / h2)\n",
    "        Ih2 = 0\n",
    "        for i in range(N):\n",
    "            Ih2 += f(a + (i + 1) * h2)\n",
    "        Ih2 *= h2\n",
    "        if abs((Ih2 - Ih1) / (1 - h2 / h1)) <= epsilon:\n",
    "            return Ih2, h2\n",
    "        h1, Ih1 = h2, Ih2\n",
    "\n",
    "\n",
    "eps = 1e-5\n",
    "res_r_tr_comp = r_triangle_comp(func, a, b, eps)\n",
    "print(f\"Значение интеграла: {res_r_tr_comp[0]}\\nШаг разбиения: {res_r_tr_comp[1]}\")\n",
    "print(f\"Невязка с реальным решением: {abs(res_r_tr_comp[0]) - abs(real_res)}\")"
   ],
   "metadata": {
    "collapsed": false
   }
  },
  {
   "cell_type": "code",
   "execution_count": 5,
   "outputs": [],
   "source": [
    "# Оцениваем разбиения\n",
    "def func_der(x):\n",
    "    return 2 * x * pow(10, -2 * x) + (x**2 - 1) * math.log(10) * pow(10, -2 * x) * (- 2)\n",
    "\n",
    "def func_der_2(x):\n",
    "    return (2  - 8 * math.log(10) * x  + 4 * math.log(100) * x**2 - 4 * math.log(100)) * pow(10, -2 * x)"
   ],
   "metadata": {
    "collapsed": false
   }
  },
  {
   "cell_type": "code",
   "execution_count": 6,
   "outputs": [
    {
     "name": "stdout",
     "output_type": "stream",
     "text": [
      "M2: 16.420680743952367\n",
      "Число разбиений для средних прямоугольников: 262\n",
      "Шаг для средних прямоугольников: 0.003816793893129771\n"
     ]
    }
   ],
   "source": [
    "# Максимум второй производной\n",
    "x = np.arange(a, b, 0.00001)\n",
    "M2 = max([abs(func_der_2(i)) for i in x])\n",
    "# M2 = 19.2076\n",
    "print(F\"M2: {M2}\")\n",
    "N_mid = math.ceil(math.sqrt((b - a)**3 / (24 * eps) * M2))\n",
    "print(f\"Число разбиений для средних прямоугольников: {N_mid}\")\n",
    "h_mid = (b - a) / N_mid\n",
    "print(f\"Шаг для средних прямоугольников: {h_mid}\")"
   ],
   "metadata": {
    "collapsed": false
   }
  },
  {
   "cell_type": "code",
   "execution_count": 7,
   "outputs": [
    {
     "name": "stdout",
     "output_type": "stream",
     "text": [
      "Число разбиений для Симпсона: 10\n",
      "Шаг для Симпсона: 0.1\n"
     ]
    }
   ],
   "source": [
    "M4 = 195.27086\n",
    "N_simp = math.ceil(pow((b - a)**5 / (2880 * eps) * M4, 1 / 4))\n",
    "print(f\"Число разбиений для Симпсона: {N_simp}\")\n",
    "h_simp = (b - a) / N_simp\n",
    "print(f\"Шаг для Симпсона: {h_simp}\")"
   ],
   "metadata": {
    "collapsed": false
   }
  },
  {
   "cell_type": "code",
   "execution_count": 8,
   "outputs": [
    {
     "name": "stdout",
     "output_type": "stream",
     "text": [
      "Значение интеграла: -0.19781404401175506\n",
      "Невязка с реальным решением: -2.783164377295755e-06\n"
     ]
    }
   ],
   "source": [
    "# Средние прямоугольники\n",
    "def m_triangle_comp(f, a, b, h):\n",
    "    N = int((b - a) / h)\n",
    "    sum = 0\n",
    "    for i in range(N):\n",
    "        sum += f(a + (i + 0.5) * h)\n",
    "    return sum * h\n",
    "\n",
    "res_mid_tr_comp = m_triangle_comp(func, a, b, h_mid)\n",
    "print(f\"Значение интеграла: {res_mid_tr_comp}\")\n",
    "print(f\"Невязка с реальным решением: {abs(res_mid_tr_comp) - abs(real_res)}\")"
   ],
   "metadata": {
    "collapsed": false
   }
  },
  {
   "cell_type": "code",
   "execution_count": 9,
   "outputs": [
    {
     "name": "stdout",
     "output_type": "stream",
     "text": [
      "Значение интеграла: -0.1978550914154395\n",
      "Невязка с реальным решением: 3.8264239307139736e-05\n"
     ]
    }
   ],
   "source": [
    "# Симпсон\n",
    "def simp_comp(f, a, b, h):\n",
    "    N = int((b - a) / h)\n",
    "    split = [h * i for i in range(N + 1)]\n",
    "    temp1 = sum([f(split[i]) for i in range(0, N - 1, 2)])\n",
    "    temp2 = sum([f(split[i]) for i in range(1, N, 2)])\n",
    "    return h / 3 * (split[0] + split[N] + 2 * temp1 + 4 * temp2)\n",
    "\n",
    "\n",
    "res_simp_comp = simp_comp(func, a, b, h_simp)\n",
    "print(f\"Значение интеграла: {res_simp_comp}\")\n",
    "print(f\"Невязка с реальным решением: {abs(res_simp_comp) - abs(real_res)}\")"
   ],
   "metadata": {
    "collapsed": false
   }
  },
  {
   "cell_type": "code",
   "execution_count": 10,
   "outputs": [
    {
     "name": "stdout",
     "output_type": "stream",
     "text": [
      "[0, 0.538469310105683, -0.538469310105683, 0.906179845938664, -0.906179845938664]\n"
     ]
    }
   ],
   "source": [
    "# НАСТ Гаусса при n = 4\n",
    "# Корни n + 1 многочлена Лежандра\n",
    "roots = [0, 1 / 3 * math.sqrt(5 - 2 * math.sqrt(10 / 7)), - 1 / 3 * math.sqrt(5 - 2 * math.sqrt(10 / 7)),\n",
    "         1 / 3 * math.sqrt(5 + 2 * math.sqrt(10 / 7)), - 1 / 3 * math.sqrt(5 + 2 * math.sqrt(10 / 7))]\n",
    "print(roots)"
   ],
   "metadata": {
    "collapsed": false
   }
  },
  {
   "cell_type": "code",
   "execution_count": 11,
   "outputs": [],
   "source": [
    "# # Преобразуем корни для отрезка [a, b]\n",
    "# for i in range(len(roots)):\n",
    "#     roots[i] = (b - a) / 2 * roots[i] + (a + b) / 2\n",
    "# print(roots)"
   ],
   "metadata": {
    "collapsed": false
   }
  },
  {
   "cell_type": "code",
   "execution_count": 12,
   "outputs": [
    {
     "name": "stdout",
     "output_type": "stream",
     "text": [
      "[0.5688888888888889, 0.47862867049936636, 0.47862867049936636, 0.23692688505618922, 0.23692688505618922]\n"
     ]
    }
   ],
   "source": [
    "# Коэффициенты Ak\n",
    "def p_der_5(x):\n",
    "    return 15 / 8 * (21 * x**4 - 14 * x**2 + 1)\n",
    "\n",
    "A = []\n",
    "for root in roots:\n",
    "    A.append(2 / ((1 - root**2) * p_der_5(root)**2))\n",
    "print(A)"
   ],
   "metadata": {
    "collapsed": false
   }
  },
  {
   "cell_type": "code",
   "execution_count": 13,
   "outputs": [
    {
     "name": "stdout",
     "output_type": "stream",
     "text": [
      "[0.5, 0.7692346550528415, 0.2307653449471585, 0.9530899229693319, 0.04691007703066802]\n"
     ]
    }
   ],
   "source": [
    "# Преобразуем корни для отрезка [a, b]\n",
    "for i in range(len(roots)):\n",
    "    roots[i] = (b - a) / 2 * roots[i] + (a + b) / 2\n",
    "print(roots)"
   ],
   "metadata": {
    "collapsed": false
   }
  },
  {
   "cell_type": "code",
   "execution_count": 18,
   "outputs": [
    {
     "name": "stdout",
     "output_type": "stream",
     "text": [
      "Значение интеграла: -0.1978171088237481\n",
      "Невязка с реальным решением: 2.8164761572968544e-07\n"
     ]
    }
   ],
   "source": [
    "# Квадратурная формула\n",
    "sum = 0\n",
    "for i in range(len(roots)):\n",
    "    sum += A[i] * func(roots[i])\n",
    "\n",
    "res_gauss = sum * (b - a) / 2\n",
    "print(f\"Значение интеграла: {res_gauss}\")\n",
    "print(f\"Невязка с реальным решением: {abs(res_gauss) - abs(real_res)}\")"
   ],
   "metadata": {
    "collapsed": false
   }
  },
  {
   "cell_type": "code",
   "execution_count": 25,
   "outputs": [
    {
     "name": "stdout",
     "output_type": "stream",
     "text": [
      "Оценка погрешности: 5.4896955256250204e-06\n"
     ]
    }
   ],
   "source": [
    "# Остаток квадратурной формулы\n",
    "# Нужна производная от функции степени 2 * n + 2. При n = 4: 10 степени.\n",
    "# M_10 = 3.68369 * 10**9\n",
    "# Берём max 10 производной на отрезке [a, b]\n",
    "M_10 = 1.39157 * 10**7\n",
    "n = 4\n",
    "r_gauss = 2**(2 * n + 3) / ((2 * n + 3) * math.factorial(2 * n + 2)) \\\n",
    "          * (math.factorial(n + 1)**2 / math.factorial(2 * n + 2))**2 * M_10\n",
    "r_gauss = r_gauss * ((b - a) / 2)**(2 * n + 3)\n",
    "print(f\"Оценка погрешности: {r_gauss}\")"
   ],
   "metadata": {
    "collapsed": false
   }
  },
  {
   "cell_type": "code",
   "execution_count": null,
   "outputs": [],
   "source": [],
   "metadata": {
    "collapsed": false
   }
  }
 ],
 "metadata": {
  "kernelspec": {
   "display_name": "Python 3",
   "language": "python",
   "name": "python3"
  },
  "language_info": {
   "codemirror_mode": {
    "name": "ipython",
    "version": 2
   },
   "file_extension": ".py",
   "mimetype": "text/x-python",
   "name": "python",
   "nbconvert_exporter": "python",
   "pygments_lexer": "ipython2",
   "version": "2.7.6"
  }
 },
 "nbformat": 4,
 "nbformat_minor": 0
}
